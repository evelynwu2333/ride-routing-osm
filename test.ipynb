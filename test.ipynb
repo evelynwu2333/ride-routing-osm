{
 "cells": [
  {
   "cell_type": "code",
   "execution_count": 31,
   "metadata": {},
   "outputs": [],
   "source": [
    "import osmnx as ox\n",
    "from pyproj import Proj"
   ]
  },
  {
   "cell_type": "code",
   "execution_count": 24,
   "metadata": {},
   "outputs": [
    {
     "data": {
      "text/plain": [
       "'1.9.4'"
      ]
     },
     "execution_count": 24,
     "metadata": {},
     "output_type": "execute_result"
    }
   ],
   "source": [
    "ox.__version__"
   ]
  },
  {
   "cell_type": "code",
   "execution_count": 11,
   "metadata": {},
   "outputs": [],
   "source": [
    "place = \"ACT, Australia\"\n"
   ]
  },
  {
   "cell_type": "code",
   "execution_count": 10,
   "metadata": {},
   "outputs": [
    {
     "data": {
      "text/plain": [
       "shapely.geometry.polygon.Polygon"
      ]
     },
     "execution_count": 10,
     "metadata": {},
     "output_type": "execute_result"
    }
   ],
   "source": [
    "# t = ox.geocode_to_gdf(\"ACT, Australia\", which_result=None)\n",
    "# type(t['geometry'].iloc[0])"
   ]
  },
  {
   "cell_type": "code",
   "execution_count": 25,
   "metadata": {},
   "outputs": [
    {
     "name": "stderr",
     "output_type": "stream",
     "text": [
      "C:\\Temp\\ipykernel_6332\\3010082534.py:1: FutureWarning: The `utils.config` function is deprecated and will be removed in the v2.0.0 release. Instead, use the `settings` module directly to configure a global setting's value. For example, `ox.settings.log_console=True`. See the OSMnx v2 migration guide: https://github.com/gboeing/osmnx/issues/1123\n",
      "  ox.config(use_cache=True, log_console=True)\n"
     ]
    }
   ],
   "source": [
    "ox.config(use_cache=True, log_console=True)\n",
    "G = ox.graph_from_place(place, network_type='bike', simplify=True)"
   ]
  },
  {
   "cell_type": "code",
   "execution_count": 26,
   "metadata": {},
   "outputs": [],
   "source": [
    "# get a GeoSeries of consolidated intersections\n",
    "G_proj = ox.project_graph(G)\n",
    "G2 = ox.consolidate_intersections(G_proj)\n"
   ]
  },
  {
   "cell_type": "code",
   "execution_count": 29,
   "metadata": {},
   "outputs": [],
   "source": [
    "Gp = ox.project_graph(G2)"
   ]
  },
  {
   "cell_type": "code",
   "execution_count": 43,
   "metadata": {},
   "outputs": [
    {
     "name": "stdout",
     "output_type": "stream",
     "text": [
      "9579\n",
      "6444\n"
     ]
    }
   ],
   "source": [
    "orig = [149.038124, -35.233842]\n",
    "dest = [149.084816, -35.252348]\n",
    "# Set up your UTM projection for ACT (Zone 55S)\n",
    "proj_utm = Proj(proj='utm', zone=55, south=True, ellps='WGS84')\n",
    "x1, y1 = proj_utm(orig[0], orig[1])\n",
    "x2, y2 = proj_utm(dest[0], dest[1])\n",
    "\n",
    "orig_node = ox.nearest_nodes(Gp, x1, y1)\n",
    "dest_node = ox.nearest_nodes(Gp, x2, y2)\n",
    "print(orig_node)\n",
    "print(dest_node)"
   ]
  },
  {
   "cell_type": "code",
   "execution_count": 44,
   "metadata": {},
   "outputs": [],
   "source": [
    "# find the shortest path (by distance) between these nodes then plot it\n",
    "routes = ox.k_shortest_paths(G2, orig_node, dest_node, k=3, weight=\"length\")\n",
    "route_list = list(routes)\n"
   ]
  },
  {
   "cell_type": "code",
   "execution_count": 46,
   "metadata": {},
   "outputs": [
    {
     "name": "stdout",
     "output_type": "stream",
     "text": [
      "Length of route 1: 5641.504069066369 meters\n",
      "Length of route 2: 5643.212014488999 meters\n",
      "Length of route 3: 5644.702914817996 meters\n",
      "[[(6099160.463292609, 685425.975529575), (6099129.893893488, 685353.4779063907), (6099009.457275188, 685265.3034023275), (6098766.570395689, 685218.4773676815), (6098720.291735907, 685232.412421319), (6098657.268234268, 685294.0241892751), (6098634.606778711, 685326.5354406331), (6098597.566227471, 685483.7727386802), (6098497.377233095, 685616.322066714), (6098477.3612192925, 685620.2170225739), (6098350.557317756, 685634.9269508591), (6098327.180693739, 685710.497589728), (6098246.49876664, 685958.6039247421), (6098091.543334673, 686314.2261968546), (6098045.8953872165, 686600.9405710574), (6098023.981825297, 686873.03493985), (6098006.941190542, 687028.0734791672), (6098001.171826271, 687093.0379591824), (6097983.901329768, 687240.2270285134), (6097868.005024812, 687495.170244976), (6097734.577424798, 687690.9147645261), (6097679.753535016, 687789.6525690925), (6097551.537391886, 688009.4111751273), (6097512.225288672, 688101.8379106408), (6097488.4262134, 688169.2559668054), (6097416.3130394835, 688387.0363781331), (6097371.555041395, 688522.189140847), (6097248.734671703, 688855.3093447149), (6097209.361648459, 688918.4807576506)], [(6099160.463292609, 685425.975529575), (6099129.893893488, 685353.4779063907), (6099009.457275188, 685265.3034023275), (6098766.570395689, 685218.4773676815), (6098720.291735907, 685232.412421319), (6098657.268234268, 685294.0241892751), (6098634.606778711, 685326.5354406331), (6098597.566227471, 685483.7727386802), (6098497.377233095, 685616.322066714), (6098477.3612192925, 685620.2170225739), (6098350.557317756, 685634.9269508591), (6098327.180693739, 685710.497589728), (6098246.49876664, 685958.6039247421), (6098091.543334673, 686314.2261968546), (6098045.8953872165, 686600.9405710574), (6098023.981825297, 686873.03493985), (6098001.171826271, 687093.0379591824), (6097983.901329768, 687240.2270285134), (6097868.005024812, 687495.170244976), (6097734.577424798, 687690.9147645261), (6097679.753535016, 687789.6525690925), (6097551.537391886, 688009.4111751273), (6097512.225288672, 688101.8379106408), (6097488.4262134, 688169.2559668054), (6097416.3130394835, 688387.0363781331), (6097371.555041395, 688522.189140847), (6097248.734671703, 688855.3093447149), (6097209.361648459, 688918.4807576506)], [(6099160.463292609, 685425.975529575), (6099129.893893488, 685353.4779063907), (6099009.457275188, 685265.3034023275), (6098766.570395689, 685218.4773676815), (6098720.291735907, 685232.412421319), (6098657.268234268, 685294.0241892751), (6098634.606778711, 685326.5354406331), (6098597.566227471, 685483.7727386802), (6098497.377233095, 685616.322066714), (6098477.3612192925, 685620.2170225739), (6098430.574874548, 685671.0084249626), (6098415.241525864, 685728.3267988975), (6098327.180693739, 685710.497589728), (6098246.49876664, 685958.6039247421), (6098091.543334673, 686314.2261968546), (6098045.8953872165, 686600.9405710574), (6098023.981825297, 686873.03493985), (6098006.941190542, 687028.0734791672), (6098001.171826271, 687093.0379591824), (6097983.901329768, 687240.2270285134), (6097868.005024812, 687495.170244976), (6097734.577424798, 687690.9147645261), (6097679.753535016, 687789.6525690925), (6097551.537391886, 688009.4111751273), (6097512.225288672, 688101.8379106408), (6097488.4262134, 688169.2559668054), (6097416.3130394835, 688387.0363781331), (6097371.555041395, 688522.189140847), (6097248.734671703, 688855.3093447149), (6097209.361648459, 688918.4807576506)]]\n"
     ]
    }
   ],
   "source": [
    "route_coords=[]\n",
    "for i, route in enumerate(route_list):\n",
    "    route_gdf = ox.routing.route_to_gdf(G2, route)\n",
    "    route_length = route_gdf[\"length\"].sum()\n",
    "    print(f\"Length of route {i+1}: {route_length} meters\")\n",
    "\n",
    "    # Extract the coordinates of the route\n",
    "    coords = [(point.xy[1][0], point.xy[0][0]) for point in route_gdf.geometry]  # (lat, lon) format\n",
    "    \n",
    "    route_coords.append(coords)\n",
    "print(route_coords)"
   ]
  },
  {
   "cell_type": "code",
   "execution_count": null,
   "metadata": {},
   "outputs": [],
   "source": [
    "for i, route in enumerate(routes):\n",
    "    folium.PolyLine(route, color=[\"red\", \"blue\", \"green\"][i], weight=5, opacity=0.7, popup=f'Route {i+1}').add_to(m)\n",
    "\n",
    "# Add markers for the origin and destination\n",
    "folium.Marker(location=st.session_state.start_coords, popup='Origin').add_to(m)\n",
    "folium.Marker(location=st.session_state.end_coords, popup='Destination').add_to(m)\n"
   ]
  }
 ],
 "metadata": {
  "kernelspec": {
   "display_name": "geo",
   "language": "python",
   "name": "python3"
  },
  "language_info": {
   "codemirror_mode": {
    "name": "ipython",
    "version": 3
   },
   "file_extension": ".py",
   "mimetype": "text/x-python",
   "name": "python",
   "nbconvert_exporter": "python",
   "pygments_lexer": "ipython3",
   "version": "3.12.5"
  }
 },
 "nbformat": 4,
 "nbformat_minor": 2
}
